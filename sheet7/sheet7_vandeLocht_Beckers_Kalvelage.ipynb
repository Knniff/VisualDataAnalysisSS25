{
 "cells": [
  {
   "cell_type": "markdown",
   "id": "ebc60c15",
   "metadata": {},
   "source": [
    "# Sheet 7\n",
    "\n",
    "Johannes van de Locht, Finn Kalvelage, Anna Beckers"
   ]
  },
  {
   "cell_type": "markdown",
   "id": "d1817170",
   "metadata": {},
   "source": [
    "## Task 1"
   ]
  },
  {
   "cell_type": "markdown",
   "id": "fa82d237",
   "metadata": {},
   "source": [
    "## Task 2\n",
    "\n",
    "### a) What is the difference between geometric zoom and detail zoom in the system?\n",
    "\n",
    "Geometric zoom maps a part of the adjacency matrix from the current detail level to the viewport. This can be navigated by the user through zooming in and out (changing the amount of cells displayed in the viewport) or through horizontal and vertical translation. This makes the geometric zoom continious.\n",
    "\n",
    "The detail zoom switches through the different detail levels and is therefore discrete.\n",
    "\n",
    "### b) The paper suggests eight different ways to visualize aggregated edge information. Which of them are actually used in the screenshots in Figures 1 and 9? \n",
    "\n",
    "The images in figure 1 both use *step histograms* for cells with edges while the left image of figure 9 uses the *average* visualization and the right image looks like it uses *color shading* though the used color shows no differences between cells.\n",
    "\n",
    "### c) What is the role of tile management within the ZAME system? What is an LRU cache? \n",
    "\n",
    "As the data structure (especially for bigger datasets) can be to large for the RAM or VRAM (atleast at the time of the release of the paper) not the complete adjacency matrix let alone each detail level could be present in the cache (RAM or VRAM). The tile manager is used for the loading the correct detail level and has the ability to temporarily present a lower detail level during the loading process. The policy for choosing which tiles to keep in the caches is the least recently used (LRU) policy which discards the tile that wasn't used for the longest when a new tile needs to be cached and the cache is already full.\n",
    "\n",
    "### d) How does ZAME aggregate nominal attributes? Why is that problematic?\n",
    "\n",
    "As there is no immediatly obvious way for nominal attributes to be aggregated ZAME uses the first label that represents the whole aggregate. This method fails to capture the diversity of the whole aggregate and can also be quite arbitrary depending on the ordering of labels.\n",
    "\n",
    "### e) Why is the Traveling Salesman Problem relevant to adjacency matrix based graph visualization?\n",
    "\n",
    "ZAME uses an aproximation algorithm for the TSP to find good orderings of adjacency matrices for graphs with relativly dissimilar weighted edges. The desired ordering of vertices to build good local structures probably arises from the need to travel to each vertex of a highly interconnected cluster in quick succession to achieve the shortest route.\n",
    "\n",
    "### f) In the pseudocode listed in the paper’s Figure 4, some modifications are highlighted in boldface, on lines starting with a bar. What is the purpose of these modifications?\n",
    "\n",
    "The bold-faced parts of the algorithm exist to spread the pivot point equally around the subtrees. Without the penalization the algorithm would prioritize the 2 largest subtrees and therefore misrepresent the rest of the data."
   ]
  },
  {
   "cell_type": "markdown",
   "id": "857a9527e0e2d7c2",
   "metadata": {},
   "source": [
    "## Task 3"
   ]
  },
  {
   "cell_type": "code",
   "execution_count": 1,
   "id": "12d079a5d119dba1",
   "metadata": {
    "ExecuteTime": {
     "end_time": "2025-05-20T09:05:16.848630Z",
     "start_time": "2025-05-20T09:05:13.330559Z"
    }
   },
   "outputs": [],
   "source": [
    "from dash import Dash, html, State, dcc, callback, Output, Input\n",
    "import pandas as pd\n",
    "import plotly.express as px\n",
    "import plotly.graph_objects as go\n",
    "from sklearn.decomposition import PCA\n",
    "from sklearn.manifold import Isomap, TSNE"
   ]
  },
  {
   "cell_type": "code",
   "execution_count": 2,
   "id": "dd57875250659f89",
   "metadata": {},
   "outputs": [],
   "source": [
    "df = pd.read_excel('Data_Cortex_Nuclear.xls').dropna()\n",
    "df_filt = df[df['class'].isin(['t-CS-s', 'c-CS-s'])].reset_index(drop=True)\n",
    "classes = df_filt['class']\n",
    "df_filt = df_filt.drop(columns=['MouseID', 'Genotype', 'Treatment', 'Behavior', 'class'])\n",
    "\n",
    "df_filt_classes = df_filt.copy()\n",
    "df_filt_classes['class'] = classes"
   ]
  },
  {
   "cell_type": "code",
   "execution_count": 3,
   "id": "e00c9eba4c1e7f8c",
   "metadata": {},
   "outputs": [],
   "source": [
    "pca = PCA(n_components=2)\n",
    "df_pca = pd.DataFrame(pca.fit_transform(df_filt))\n",
    "df_pca['class'] = classes\n",
    "\n",
    "iso = Isomap(n_neighbors=8)\n",
    "df_iso = pd.DataFrame(iso.fit_transform(df_filt))\n",
    "df_iso['class'] = classes\n",
    "\n",
    "tsne = TSNE(perplexity=5.0)\n",
    "df_tsne = pd.DataFrame(tsne.fit_transform(df_filt))\n",
    "df_tsne['class'] = classes"
   ]
  },
  {
   "cell_type": "code",
   "execution_count": 4,
   "id": "46a51593477b8731",
   "metadata": {},
   "outputs": [],
   "source": [
    "app = Dash()"
   ]
  },
  {
   "cell_type": "code",
   "execution_count": 5,
   "id": "efbbdfb3b236a4c6",
   "metadata": {},
   "outputs": [],
   "source": [
    "reduc_methods = html.Div([\n",
    "                dcc.RadioItems(\n",
    "                    options=[\n",
    "                        {'label': 'PCA', 'value': 'PCA'},\n",
    "                        {'label': 'ISOMAP', 'value': 'ISOMAP'},\n",
    "                        {'label': 't-SNE', 'value': 't-SNE'}\n",
    "                    ],\n",
    "                    value='PCA',\n",
    "                    id='dim_reduc_method',\n",
    "                    labelStyle={'display': 'inline-block', 'margin-right': '10px'}\n",
    "                )\n",
    "            ], style={\n",
    "                'display': 'flex',\n",
    "                'justifyContent': 'center',\n",
    "                'alignItems': 'center',\n",
    "                'width': '50%'\n",
    "            })\n",
    "\n",
    "dropdown_1 = html.Div([\n",
    "                    html.Div(\"x-Axis\", style={'textAlign': 'center', 'fontWeight': 'bold', 'marginBottom': '2px'}),\n",
    "                    dcc.Dropdown(\n",
    "                        options=[{'label': col, 'value': col} for col in df_filt.columns],\n",
    "                        value=df_filt.columns[0],\n",
    "                        id='dropdown_1',\n",
    "                        clearable=False,\n",
    "                        style={'width': '200px'}\n",
    "                    )\n",
    "                ], style={'margin': '5px'})\n",
    "\n",
    "dropdown_2 = html.Div([\n",
    "                    html.Div(\"y-Axis\", style={'textAlign': 'center', 'fontWeight': 'bold', 'marginBottom': '2px'}),\n",
    "                    dcc.Dropdown(\n",
    "                        options=[{'label': col, 'value': col} for col in df_filt.columns],\n",
    "                        value=df_filt.columns[1],\n",
    "                        id='dropdown_2',\n",
    "                        clearable=False,\n",
    "                        style={'width': '200px'}\n",
    "                    )\n",
    "                ], style={'margin': '5px'})\n",
    "\n",
    "button = html.Button(\n",
    "                    \"Add\",\n",
    "                    id='add_button',\n",
    "                    n_clicks=0,\n",
    "                    style={'height': '35px', 'margin': '5px', 'alignSelf': 'flex-end'}\n",
    "                )\n",
    "\n",
    "options = html.Div([\n",
    "            reduc_methods,\n",
    "        \n",
    "            html.Div([\n",
    "                dropdown_1,\n",
    "                dropdown_2,\n",
    "                button\n",
    "            ], style={\n",
    "                'display': 'flex',\n",
    "                'flexDirection': 'row',\n",
    "                'justifyContent': 'center',\n",
    "                'alignItems': 'flex-end',\n",
    "                'width': '50%'\n",
    "            })\n",
    "        ], style={\n",
    "            'display': 'flex',\n",
    "            'flexDirection': 'row',\n",
    "            'marginBottom': '20px'\n",
    "        })"
   ]
  },
  {
   "cell_type": "code",
   "execution_count": 6,
   "id": "e6c4180bd39c000e",
   "metadata": {},
   "outputs": [],
   "source": [
    "graphs_top = html.Div([dcc.Graph(figure={}, id='dim_reduc_graph', style={'width': '50%'}),\n",
    "                       dcc.Graph(figure={}, id='map_ind_feats', style={'width': '50%'})], \n",
    "                      style={'display': 'flex', 'justifyContent': 'space-between', 'gap': '20px'})"
   ]
  },
  {
   "cell_type": "code",
   "execution_count": 7,
   "id": "b28caf75487d3e99",
   "metadata": {},
   "outputs": [],
   "source": [
    "@callback(\n",
    "    Output(component_id='dim_reduc_graph', component_property='figure'),\n",
    "    Input(component_id='dim_reduc_method', component_property='value')\n",
    ")\n",
    "def update_vis(meth_chosen):\n",
    "    if meth_chosen == 'PCA':\n",
    "        fig = px.scatter(df_pca, x=0, y=1, color='class', title=\"PCA Projection\")\n",
    "        fig.update_layout(yaxis=dict(scaleanchor=\"x\", scaleratio=1))\n",
    "    elif meth_chosen == 'ISOMAP':\n",
    "        fig = px.scatter(df_iso, x=0, y=1, color='class', title=\"ISOMAP Projection\")\n",
    "        fig.update_layout(yaxis=dict(scaleanchor=\"x\", scaleratio=1))\n",
    "    elif meth_chosen == 't-SNE':\n",
    "        fig = px.scatter(df_tsne, x=0, y=1, color='class', title=\"t-SNE Projection\")\n",
    "        fig.update_layout(yaxis=dict(scaleanchor=\"x\", scaleratio=1))\n",
    "    else:\n",
    "        fig = {}\n",
    "    return fig"
   ]
  },
  {
   "cell_type": "code",
   "execution_count": 8,
   "id": "60c459387e653703",
   "metadata": {},
   "outputs": [],
   "source": [
    "@callback(\n",
    "    Output(component_id='map_ind_feats', component_property='figure'),\n",
    "    Input(component_id='dropdown_1', component_property='value'),\n",
    "    Input(component_id='dropdown_2', component_property='value')\n",
    ")\n",
    "def map_features(col1, col2):\n",
    "    fig = px.scatter(df_filt_classes, x=col1, y=col2, color='class')\n",
    "    return fig"
   ]
  },
  {
   "cell_type": "code",
   "execution_count": 9,
   "id": "ac8a186f458ad4d2",
   "metadata": {},
   "outputs": [],
   "source": [
    "graph_bottom_storage = dcc.Store(id='plot_history', data=[])\n",
    "graph_bottom_cont = html.Div(id='history_plots_container')"
   ]
  },
  {
   "cell_type": "code",
   "execution_count": 10,
   "id": "c173ea5161d6c6a7",
   "metadata": {},
   "outputs": [],
   "source": [
    "@callback(\n",
    "    Output(component_id='plot_history', component_property='data'),\n",
    "    Input(component_id='add_button', component_property='n_clicks'),\n",
    "    State(component_id='dropdown_1', component_property='value'),\n",
    "    State(component_id='dropdown_2', component_property='value'),\n",
    "    State(component_id='plot_history', component_property='data')\n",
    ")\n",
    "def add_plot(n_clicks, col1, col2, plot_hist):\n",
    "    if n_clicks > 0:\n",
    "        fig = px.scatter(df_filt_classes, x=col1, y=col2, color='class')\n",
    "        new_plot = fig.to_dict()\n",
    "        plot_hist.append(new_plot)\n",
    "        if len(plot_hist) > 4:\n",
    "            plot_hist = plot_hist[-4:]\n",
    "    return plot_hist"
   ]
  },
  {
   "cell_type": "code",
   "execution_count": 11,
   "id": "96aaf7589f14941",
   "metadata": {},
   "outputs": [],
   "source": [
    "@callback(\n",
    "    Output('history_plots_container', 'children'),\n",
    "    Input('plot_history', 'data')\n",
    ")\n",
    "def vis_plot_hist(plot_history):\n",
    "    if not plot_history:\n",
    "        return []\n",
    "\n",
    "    plots = [\n",
    "        dcc.Graph(\n",
    "            figure=go.Figure(fig),\n",
    "            style={\n",
    "                'width': '22%',\n",
    "                'aspectRatio': '1',\n",
    "                'margin': '10px'\n",
    "            }\n",
    "        ) for fig in plot_history\n",
    "    ]\n",
    "\n",
    "    return html.Div(\n",
    "        children=plots,\n",
    "        style={\n",
    "            'display': 'flex',\n",
    "            'justifyContent': 'center',\n",
    "            'alignItems': 'center',\n",
    "            'gap': '10px',\n",
    "            'overflowX': 'auto'\n",
    "        }\n",
    "    )"
   ]
  },
  {
   "cell_type": "code",
   "execution_count": 12,
   "id": "2a21f5b61889f138",
   "metadata": {},
   "outputs": [
    {
     "name": "stdout",
     "output_type": "stream",
     "text": [
      "Dash app running on http://127.0.0.1:8050/\n"
     ]
    }
   ],
   "source": [
    "app.layout = html.Div([\n",
    "    graph_bottom_storage,\n",
    "    \n",
    "    html.H2('Interactive Visualization with Dash', style={'textAlign': 'center'}),\n",
    "    html.Hr(),\n",
    "    options,\n",
    "    graphs_top,\n",
    "    graph_bottom_cont\n",
    "])      \n",
    "\n",
    "if __name__ == '__main__':\n",
    "    app.run(jupyter_mode=\"external\")"
   ]
  }
 ],
 "metadata": {
  "kernelspec": {
   "display_name": "Python 3 (ipykernel)",
   "language": "python",
   "name": "python3"
  },
  "language_info": {
   "codemirror_mode": {
    "name": "ipython",
    "version": 3
   },
   "file_extension": ".py",
   "mimetype": "text/x-python",
   "name": "python",
   "nbconvert_exporter": "python",
   "pygments_lexer": "ipython3",
   "version": "3.11.11"
  }
 },
 "nbformat": 4,
 "nbformat_minor": 5
}
